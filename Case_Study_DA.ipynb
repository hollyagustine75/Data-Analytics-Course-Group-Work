{
  "nbformat": 4,
  "nbformat_minor": 0,
  "metadata": {
    "colab": {
      "provenance": [],
      "include_colab_link": true
    },
    "kernelspec": {
      "name": "python3",
      "display_name": "Python 3"
    },
    "language_info": {
      "name": "python"
    }
  },
  "cells": [
    {
      "cell_type": "markdown",
      "metadata": {
        "id": "view-in-github",
        "colab_type": "text"
      },
      "source": [
        "<a href=\"https://colab.research.google.com/github/hollyagustine75/Data-Analytics-Course-Group-Work/blob/main/Case_Study_DA.ipynb\" target=\"_parent\"><img src=\"https://colab.research.google.com/assets/colab-badge.svg\" alt=\"Open In Colab\"/></a>"
      ]
    },
    {
      "cell_type": "code",
      "source": [
        "pip install ucimlrepo"
      ],
      "metadata": {
        "colab": {
          "base_uri": "https://localhost:8080/"
        },
        "id": "UJuKXO_wOvz3",
        "outputId": "fb8ebd3d-e024-4ad5-e97e-608881d678ab"
      },
      "execution_count": null,
      "outputs": [
        {
          "output_type": "stream",
          "name": "stdout",
          "text": [
            "Requirement already satisfied: ucimlrepo in /usr/local/lib/python3.10/dist-packages (0.0.7)\n",
            "Requirement already satisfied: pandas>=1.0.0 in /usr/local/lib/python3.10/dist-packages (from ucimlrepo) (2.0.3)\n",
            "Requirement already satisfied: certifi>=2020.12.5 in /usr/local/lib/python3.10/dist-packages (from ucimlrepo) (2024.6.2)\n",
            "Requirement already satisfied: python-dateutil>=2.8.2 in /usr/local/lib/python3.10/dist-packages (from pandas>=1.0.0->ucimlrepo) (2.8.2)\n",
            "Requirement already satisfied: pytz>=2020.1 in /usr/local/lib/python3.10/dist-packages (from pandas>=1.0.0->ucimlrepo) (2023.4)\n",
            "Requirement already satisfied: tzdata>=2022.1 in /usr/local/lib/python3.10/dist-packages (from pandas>=1.0.0->ucimlrepo) (2024.1)\n",
            "Requirement already satisfied: numpy>=1.21.0 in /usr/local/lib/python3.10/dist-packages (from pandas>=1.0.0->ucimlrepo) (1.25.2)\n",
            "Requirement already satisfied: six>=1.5 in /usr/local/lib/python3.10/dist-packages (from python-dateutil>=2.8.2->pandas>=1.0.0->ucimlrepo) (1.16.0)\n"
          ]
        }
      ]
    },
    {
      "cell_type": "code",
      "source": [
        "# Import libraries\n",
        "import pandas as pd\n",
        "import numpy as np\n",
        "import matplotlib.pyplot as plt\n",
        "import seaborn as sns\n",
        "from sklearn.model_selection import train_test_split, KFold, cross_val_score\n",
        "from sklearn.preprocessing import StandardScaler, LabelEncoder\n",
        "from sklearn.metrics import make_scorer, confusion_matrix, f1_score, precision_score, recall_score, accuracy_score\n",
        "from sklearn.neighbors import KNeighborsClassifier\n",
        "from sklearn.naive_bayes import GaussianNB\n",
        "from sklearn.svm import SVC\n",
        "from ucimlrepo import fetch_ucirepo"
      ],
      "metadata": {
        "id": "F1dzDWI3Oxts"
      },
      "execution_count": null,
      "outputs": []
    },
    {
      "cell_type": "code",
      "execution_count": null,
      "metadata": {
        "colab": {
          "base_uri": "https://localhost:8080/"
        },
        "id": "KDadYvfUN6nI",
        "outputId": "934dd553-4437-4159-d810-17a1b77128c2"
      },
      "outputs": [
        {
          "output_type": "stream",
          "name": "stdout",
          "text": [
            "                       name     role         type demographic description  \\\n",
            "0            Administrative  Feature      Integer        None        None   \n",
            "1   Administrative_Duration  Feature      Integer        None        None   \n",
            "2             Informational  Feature      Integer        None        None   \n",
            "3    Informational_Duration  Feature      Integer        None        None   \n",
            "4            ProductRelated  Feature      Integer        None        None   \n",
            "5   ProductRelated_Duration  Feature   Continuous        None        None   \n",
            "6               BounceRates  Feature   Continuous        None        None   \n",
            "7                 ExitRates  Feature   Continuous        None        None   \n",
            "8                PageValues  Feature      Integer        None        None   \n",
            "9                SpecialDay  Feature      Integer        None        None   \n",
            "10                    Month  Feature  Categorical        None        None   \n",
            "11         OperatingSystems  Feature      Integer        None        None   \n",
            "12                  Browser  Feature      Integer        None        None   \n",
            "13                   Region  Feature      Integer        None        None   \n",
            "14              TrafficType  Feature      Integer        None        None   \n",
            "15              VisitorType  Feature  Categorical        None        None   \n",
            "16                  Weekend  Feature       Binary        None        None   \n",
            "17                  Revenue   Target       Binary        None        None   \n",
            "\n",
            "   units missing_values  \n",
            "0   None             no  \n",
            "1   None             no  \n",
            "2   None             no  \n",
            "3   None             no  \n",
            "4   None             no  \n",
            "5   None             no  \n",
            "6   None             no  \n",
            "7   None             no  \n",
            "8   None             no  \n",
            "9   None             no  \n",
            "10  None             no  \n",
            "11  None             no  \n",
            "12  None             no  \n",
            "13  None             no  \n",
            "14  None             no  \n",
            "15  None             no  \n",
            "16  None             no  \n",
            "17  None             no  \n"
          ]
        }
      ],
      "source": [
        "# fetch dataset\n",
        "online_shoppers_purchasing_intention_dataset = fetch_ucirepo(id=468)\n",
        "\n",
        "# data (as pandas dataframes)\n",
        "X = online_shoppers_purchasing_intention_dataset.data.features\n",
        "y = online_shoppers_purchasing_intention_dataset.data.targets\n",
        "X_data = pd.DataFrame(X)\n",
        "Y_data = pd.DataFrame(y)\n",
        "\n",
        "# variable information\n",
        "print(online_shoppers_purchasing_intention_dataset.variables)\n"
      ]
    },
    {
      "cell_type": "code",
      "source": [
        "X_data"
      ],
      "metadata": {
        "colab": {
          "base_uri": "https://localhost:8080/",
          "height": 443
        },
        "id": "EuIyF5o5Oul9",
        "outputId": "3db6bc69-8830-4709-ccc7-27db7b80c22e"
      },
      "execution_count": null,
      "outputs": [
        {
          "output_type": "execute_result",
          "data": {
            "text/plain": [
              "       Administrative  Administrative_Duration  Informational  \\\n",
              "0                   0                      0.0              0   \n",
              "1                   0                      0.0              0   \n",
              "2                   0                      0.0              0   \n",
              "3                   0                      0.0              0   \n",
              "4                   0                      0.0              0   \n",
              "...               ...                      ...            ...   \n",
              "12325               3                    145.0              0   \n",
              "12326               0                      0.0              0   \n",
              "12327               0                      0.0              0   \n",
              "12328               4                     75.0              0   \n",
              "12329               0                      0.0              0   \n",
              "\n",
              "       Informational_Duration  ProductRelated  ProductRelated_Duration  \\\n",
              "0                         0.0               1                 0.000000   \n",
              "1                         0.0               2                64.000000   \n",
              "2                         0.0               1                 0.000000   \n",
              "3                         0.0               2                 2.666667   \n",
              "4                         0.0              10               627.500000   \n",
              "...                       ...             ...                      ...   \n",
              "12325                     0.0              53              1783.791667   \n",
              "12326                     0.0               5               465.750000   \n",
              "12327                     0.0               6               184.250000   \n",
              "12328                     0.0              15               346.000000   \n",
              "12329                     0.0               3                21.250000   \n",
              "\n",
              "       BounceRates  ExitRates  PageValues  SpecialDay Month  OperatingSystems  \\\n",
              "0         0.200000   0.200000    0.000000         0.0   Feb                 1   \n",
              "1         0.000000   0.100000    0.000000         0.0   Feb                 2   \n",
              "2         0.200000   0.200000    0.000000         0.0   Feb                 4   \n",
              "3         0.050000   0.140000    0.000000         0.0   Feb                 3   \n",
              "4         0.020000   0.050000    0.000000         0.0   Feb                 3   \n",
              "...            ...        ...         ...         ...   ...               ...   \n",
              "12325     0.007143   0.029031   12.241717         0.0   Dec                 4   \n",
              "12326     0.000000   0.021333    0.000000         0.0   Nov                 3   \n",
              "12327     0.083333   0.086667    0.000000         0.0   Nov                 3   \n",
              "12328     0.000000   0.021053    0.000000         0.0   Nov                 2   \n",
              "12329     0.000000   0.066667    0.000000         0.0   Nov                 3   \n",
              "\n",
              "       Browser  Region  TrafficType        VisitorType  Weekend  \n",
              "0            1       1            1  Returning_Visitor    False  \n",
              "1            2       1            2  Returning_Visitor    False  \n",
              "2            1       9            3  Returning_Visitor    False  \n",
              "3            2       2            4  Returning_Visitor    False  \n",
              "4            3       1            4  Returning_Visitor     True  \n",
              "...        ...     ...          ...                ...      ...  \n",
              "12325        6       1            1  Returning_Visitor     True  \n",
              "12326        2       1            8  Returning_Visitor     True  \n",
              "12327        2       1           13  Returning_Visitor     True  \n",
              "12328        2       3           11  Returning_Visitor    False  \n",
              "12329        2       1            2        New_Visitor     True  \n",
              "\n",
              "[12330 rows x 17 columns]"
            ],
            "text/html": [
              "\n",
              "  <div id=\"df-684b35e6-5960-442c-a6ce-bc2c2a4d297a\" class=\"colab-df-container\">\n",
              "    <div>\n",
              "<style scoped>\n",
              "    .dataframe tbody tr th:only-of-type {\n",
              "        vertical-align: middle;\n",
              "    }\n",
              "\n",
              "    .dataframe tbody tr th {\n",
              "        vertical-align: top;\n",
              "    }\n",
              "\n",
              "    .dataframe thead th {\n",
              "        text-align: right;\n",
              "    }\n",
              "</style>\n",
              "<table border=\"1\" class=\"dataframe\">\n",
              "  <thead>\n",
              "    <tr style=\"text-align: right;\">\n",
              "      <th></th>\n",
              "      <th>Administrative</th>\n",
              "      <th>Administrative_Duration</th>\n",
              "      <th>Informational</th>\n",
              "      <th>Informational_Duration</th>\n",
              "      <th>ProductRelated</th>\n",
              "      <th>ProductRelated_Duration</th>\n",
              "      <th>BounceRates</th>\n",
              "      <th>ExitRates</th>\n",
              "      <th>PageValues</th>\n",
              "      <th>SpecialDay</th>\n",
              "      <th>Month</th>\n",
              "      <th>OperatingSystems</th>\n",
              "      <th>Browser</th>\n",
              "      <th>Region</th>\n",
              "      <th>TrafficType</th>\n",
              "      <th>VisitorType</th>\n",
              "      <th>Weekend</th>\n",
              "    </tr>\n",
              "  </thead>\n",
              "  <tbody>\n",
              "    <tr>\n",
              "      <th>0</th>\n",
              "      <td>0</td>\n",
              "      <td>0.0</td>\n",
              "      <td>0</td>\n",
              "      <td>0.0</td>\n",
              "      <td>1</td>\n",
              "      <td>0.000000</td>\n",
              "      <td>0.200000</td>\n",
              "      <td>0.200000</td>\n",
              "      <td>0.000000</td>\n",
              "      <td>0.0</td>\n",
              "      <td>Feb</td>\n",
              "      <td>1</td>\n",
              "      <td>1</td>\n",
              "      <td>1</td>\n",
              "      <td>1</td>\n",
              "      <td>Returning_Visitor</td>\n",
              "      <td>False</td>\n",
              "    </tr>\n",
              "    <tr>\n",
              "      <th>1</th>\n",
              "      <td>0</td>\n",
              "      <td>0.0</td>\n",
              "      <td>0</td>\n",
              "      <td>0.0</td>\n",
              "      <td>2</td>\n",
              "      <td>64.000000</td>\n",
              "      <td>0.000000</td>\n",
              "      <td>0.100000</td>\n",
              "      <td>0.000000</td>\n",
              "      <td>0.0</td>\n",
              "      <td>Feb</td>\n",
              "      <td>2</td>\n",
              "      <td>2</td>\n",
              "      <td>1</td>\n",
              "      <td>2</td>\n",
              "      <td>Returning_Visitor</td>\n",
              "      <td>False</td>\n",
              "    </tr>\n",
              "    <tr>\n",
              "      <th>2</th>\n",
              "      <td>0</td>\n",
              "      <td>0.0</td>\n",
              "      <td>0</td>\n",
              "      <td>0.0</td>\n",
              "      <td>1</td>\n",
              "      <td>0.000000</td>\n",
              "      <td>0.200000</td>\n",
              "      <td>0.200000</td>\n",
              "      <td>0.000000</td>\n",
              "      <td>0.0</td>\n",
              "      <td>Feb</td>\n",
              "      <td>4</td>\n",
              "      <td>1</td>\n",
              "      <td>9</td>\n",
              "      <td>3</td>\n",
              "      <td>Returning_Visitor</td>\n",
              "      <td>False</td>\n",
              "    </tr>\n",
              "    <tr>\n",
              "      <th>3</th>\n",
              "      <td>0</td>\n",
              "      <td>0.0</td>\n",
              "      <td>0</td>\n",
              "      <td>0.0</td>\n",
              "      <td>2</td>\n",
              "      <td>2.666667</td>\n",
              "      <td>0.050000</td>\n",
              "      <td>0.140000</td>\n",
              "      <td>0.000000</td>\n",
              "      <td>0.0</td>\n",
              "      <td>Feb</td>\n",
              "      <td>3</td>\n",
              "      <td>2</td>\n",
              "      <td>2</td>\n",
              "      <td>4</td>\n",
              "      <td>Returning_Visitor</td>\n",
              "      <td>False</td>\n",
              "    </tr>\n",
              "    <tr>\n",
              "      <th>4</th>\n",
              "      <td>0</td>\n",
              "      <td>0.0</td>\n",
              "      <td>0</td>\n",
              "      <td>0.0</td>\n",
              "      <td>10</td>\n",
              "      <td>627.500000</td>\n",
              "      <td>0.020000</td>\n",
              "      <td>0.050000</td>\n",
              "      <td>0.000000</td>\n",
              "      <td>0.0</td>\n",
              "      <td>Feb</td>\n",
              "      <td>3</td>\n",
              "      <td>3</td>\n",
              "      <td>1</td>\n",
              "      <td>4</td>\n",
              "      <td>Returning_Visitor</td>\n",
              "      <td>True</td>\n",
              "    </tr>\n",
              "    <tr>\n",
              "      <th>...</th>\n",
              "      <td>...</td>\n",
              "      <td>...</td>\n",
              "      <td>...</td>\n",
              "      <td>...</td>\n",
              "      <td>...</td>\n",
              "      <td>...</td>\n",
              "      <td>...</td>\n",
              "      <td>...</td>\n",
              "      <td>...</td>\n",
              "      <td>...</td>\n",
              "      <td>...</td>\n",
              "      <td>...</td>\n",
              "      <td>...</td>\n",
              "      <td>...</td>\n",
              "      <td>...</td>\n",
              "      <td>...</td>\n",
              "      <td>...</td>\n",
              "    </tr>\n",
              "    <tr>\n",
              "      <th>12325</th>\n",
              "      <td>3</td>\n",
              "      <td>145.0</td>\n",
              "      <td>0</td>\n",
              "      <td>0.0</td>\n",
              "      <td>53</td>\n",
              "      <td>1783.791667</td>\n",
              "      <td>0.007143</td>\n",
              "      <td>0.029031</td>\n",
              "      <td>12.241717</td>\n",
              "      <td>0.0</td>\n",
              "      <td>Dec</td>\n",
              "      <td>4</td>\n",
              "      <td>6</td>\n",
              "      <td>1</td>\n",
              "      <td>1</td>\n",
              "      <td>Returning_Visitor</td>\n",
              "      <td>True</td>\n",
              "    </tr>\n",
              "    <tr>\n",
              "      <th>12326</th>\n",
              "      <td>0</td>\n",
              "      <td>0.0</td>\n",
              "      <td>0</td>\n",
              "      <td>0.0</td>\n",
              "      <td>5</td>\n",
              "      <td>465.750000</td>\n",
              "      <td>0.000000</td>\n",
              "      <td>0.021333</td>\n",
              "      <td>0.000000</td>\n",
              "      <td>0.0</td>\n",
              "      <td>Nov</td>\n",
              "      <td>3</td>\n",
              "      <td>2</td>\n",
              "      <td>1</td>\n",
              "      <td>8</td>\n",
              "      <td>Returning_Visitor</td>\n",
              "      <td>True</td>\n",
              "    </tr>\n",
              "    <tr>\n",
              "      <th>12327</th>\n",
              "      <td>0</td>\n",
              "      <td>0.0</td>\n",
              "      <td>0</td>\n",
              "      <td>0.0</td>\n",
              "      <td>6</td>\n",
              "      <td>184.250000</td>\n",
              "      <td>0.083333</td>\n",
              "      <td>0.086667</td>\n",
              "      <td>0.000000</td>\n",
              "      <td>0.0</td>\n",
              "      <td>Nov</td>\n",
              "      <td>3</td>\n",
              "      <td>2</td>\n",
              "      <td>1</td>\n",
              "      <td>13</td>\n",
              "      <td>Returning_Visitor</td>\n",
              "      <td>True</td>\n",
              "    </tr>\n",
              "    <tr>\n",
              "      <th>12328</th>\n",
              "      <td>4</td>\n",
              "      <td>75.0</td>\n",
              "      <td>0</td>\n",
              "      <td>0.0</td>\n",
              "      <td>15</td>\n",
              "      <td>346.000000</td>\n",
              "      <td>0.000000</td>\n",
              "      <td>0.021053</td>\n",
              "      <td>0.000000</td>\n",
              "      <td>0.0</td>\n",
              "      <td>Nov</td>\n",
              "      <td>2</td>\n",
              "      <td>2</td>\n",
              "      <td>3</td>\n",
              "      <td>11</td>\n",
              "      <td>Returning_Visitor</td>\n",
              "      <td>False</td>\n",
              "    </tr>\n",
              "    <tr>\n",
              "      <th>12329</th>\n",
              "      <td>0</td>\n",
              "      <td>0.0</td>\n",
              "      <td>0</td>\n",
              "      <td>0.0</td>\n",
              "      <td>3</td>\n",
              "      <td>21.250000</td>\n",
              "      <td>0.000000</td>\n",
              "      <td>0.066667</td>\n",
              "      <td>0.000000</td>\n",
              "      <td>0.0</td>\n",
              "      <td>Nov</td>\n",
              "      <td>3</td>\n",
              "      <td>2</td>\n",
              "      <td>1</td>\n",
              "      <td>2</td>\n",
              "      <td>New_Visitor</td>\n",
              "      <td>True</td>\n",
              "    </tr>\n",
              "  </tbody>\n",
              "</table>\n",
              "<p>12330 rows × 17 columns</p>\n",
              "</div>\n",
              "    <div class=\"colab-df-buttons\">\n",
              "\n",
              "  <div class=\"colab-df-container\">\n",
              "    <button class=\"colab-df-convert\" onclick=\"convertToInteractive('df-684b35e6-5960-442c-a6ce-bc2c2a4d297a')\"\n",
              "            title=\"Convert this dataframe to an interactive table.\"\n",
              "            style=\"display:none;\">\n",
              "\n",
              "  <svg xmlns=\"http://www.w3.org/2000/svg\" height=\"24px\" viewBox=\"0 -960 960 960\">\n",
              "    <path d=\"M120-120v-720h720v720H120Zm60-500h600v-160H180v160Zm220 220h160v-160H400v160Zm0 220h160v-160H400v160ZM180-400h160v-160H180v160Zm440 0h160v-160H620v160ZM180-180h160v-160H180v160Zm440 0h160v-160H620v160Z\"/>\n",
              "  </svg>\n",
              "    </button>\n",
              "\n",
              "  <style>\n",
              "    .colab-df-container {\n",
              "      display:flex;\n",
              "      gap: 12px;\n",
              "    }\n",
              "\n",
              "    .colab-df-convert {\n",
              "      background-color: #E8F0FE;\n",
              "      border: none;\n",
              "      border-radius: 50%;\n",
              "      cursor: pointer;\n",
              "      display: none;\n",
              "      fill: #1967D2;\n",
              "      height: 32px;\n",
              "      padding: 0 0 0 0;\n",
              "      width: 32px;\n",
              "    }\n",
              "\n",
              "    .colab-df-convert:hover {\n",
              "      background-color: #E2EBFA;\n",
              "      box-shadow: 0px 1px 2px rgba(60, 64, 67, 0.3), 0px 1px 3px 1px rgba(60, 64, 67, 0.15);\n",
              "      fill: #174EA6;\n",
              "    }\n",
              "\n",
              "    .colab-df-buttons div {\n",
              "      margin-bottom: 4px;\n",
              "    }\n",
              "\n",
              "    [theme=dark] .colab-df-convert {\n",
              "      background-color: #3B4455;\n",
              "      fill: #D2E3FC;\n",
              "    }\n",
              "\n",
              "    [theme=dark] .colab-df-convert:hover {\n",
              "      background-color: #434B5C;\n",
              "      box-shadow: 0px 1px 3px 1px rgba(0, 0, 0, 0.15);\n",
              "      filter: drop-shadow(0px 1px 2px rgba(0, 0, 0, 0.3));\n",
              "      fill: #FFFFFF;\n",
              "    }\n",
              "  </style>\n",
              "\n",
              "    <script>\n",
              "      const buttonEl =\n",
              "        document.querySelector('#df-684b35e6-5960-442c-a6ce-bc2c2a4d297a button.colab-df-convert');\n",
              "      buttonEl.style.display =\n",
              "        google.colab.kernel.accessAllowed ? 'block' : 'none';\n",
              "\n",
              "      async function convertToInteractive(key) {\n",
              "        const element = document.querySelector('#df-684b35e6-5960-442c-a6ce-bc2c2a4d297a');\n",
              "        const dataTable =\n",
              "          await google.colab.kernel.invokeFunction('convertToInteractive',\n",
              "                                                    [key], {});\n",
              "        if (!dataTable) return;\n",
              "\n",
              "        const docLinkHtml = 'Like what you see? Visit the ' +\n",
              "          '<a target=\"_blank\" href=https://colab.research.google.com/notebooks/data_table.ipynb>data table notebook</a>'\n",
              "          + ' to learn more about interactive tables.';\n",
              "        element.innerHTML = '';\n",
              "        dataTable['output_type'] = 'display_data';\n",
              "        await google.colab.output.renderOutput(dataTable, element);\n",
              "        const docLink = document.createElement('div');\n",
              "        docLink.innerHTML = docLinkHtml;\n",
              "        element.appendChild(docLink);\n",
              "      }\n",
              "    </script>\n",
              "  </div>\n",
              "\n",
              "\n",
              "<div id=\"df-059d451a-cd10-4193-bae8-2960bd06406d\">\n",
              "  <button class=\"colab-df-quickchart\" onclick=\"quickchart('df-059d451a-cd10-4193-bae8-2960bd06406d')\"\n",
              "            title=\"Suggest charts\"\n",
              "            style=\"display:none;\">\n",
              "\n",
              "<svg xmlns=\"http://www.w3.org/2000/svg\" height=\"24px\"viewBox=\"0 0 24 24\"\n",
              "     width=\"24px\">\n",
              "    <g>\n",
              "        <path d=\"M19 3H5c-1.1 0-2 .9-2 2v14c0 1.1.9 2 2 2h14c1.1 0 2-.9 2-2V5c0-1.1-.9-2-2-2zM9 17H7v-7h2v7zm4 0h-2V7h2v10zm4 0h-2v-4h2v4z\"/>\n",
              "    </g>\n",
              "</svg>\n",
              "  </button>\n",
              "\n",
              "<style>\n",
              "  .colab-df-quickchart {\n",
              "      --bg-color: #E8F0FE;\n",
              "      --fill-color: #1967D2;\n",
              "      --hover-bg-color: #E2EBFA;\n",
              "      --hover-fill-color: #174EA6;\n",
              "      --disabled-fill-color: #AAA;\n",
              "      --disabled-bg-color: #DDD;\n",
              "  }\n",
              "\n",
              "  [theme=dark] .colab-df-quickchart {\n",
              "      --bg-color: #3B4455;\n",
              "      --fill-color: #D2E3FC;\n",
              "      --hover-bg-color: #434B5C;\n",
              "      --hover-fill-color: #FFFFFF;\n",
              "      --disabled-bg-color: #3B4455;\n",
              "      --disabled-fill-color: #666;\n",
              "  }\n",
              "\n",
              "  .colab-df-quickchart {\n",
              "    background-color: var(--bg-color);\n",
              "    border: none;\n",
              "    border-radius: 50%;\n",
              "    cursor: pointer;\n",
              "    display: none;\n",
              "    fill: var(--fill-color);\n",
              "    height: 32px;\n",
              "    padding: 0;\n",
              "    width: 32px;\n",
              "  }\n",
              "\n",
              "  .colab-df-quickchart:hover {\n",
              "    background-color: var(--hover-bg-color);\n",
              "    box-shadow: 0 1px 2px rgba(60, 64, 67, 0.3), 0 1px 3px 1px rgba(60, 64, 67, 0.15);\n",
              "    fill: var(--button-hover-fill-color);\n",
              "  }\n",
              "\n",
              "  .colab-df-quickchart-complete:disabled,\n",
              "  .colab-df-quickchart-complete:disabled:hover {\n",
              "    background-color: var(--disabled-bg-color);\n",
              "    fill: var(--disabled-fill-color);\n",
              "    box-shadow: none;\n",
              "  }\n",
              "\n",
              "  .colab-df-spinner {\n",
              "    border: 2px solid var(--fill-color);\n",
              "    border-color: transparent;\n",
              "    border-bottom-color: var(--fill-color);\n",
              "    animation:\n",
              "      spin 1s steps(1) infinite;\n",
              "  }\n",
              "\n",
              "  @keyframes spin {\n",
              "    0% {\n",
              "      border-color: transparent;\n",
              "      border-bottom-color: var(--fill-color);\n",
              "      border-left-color: var(--fill-color);\n",
              "    }\n",
              "    20% {\n",
              "      border-color: transparent;\n",
              "      border-left-color: var(--fill-color);\n",
              "      border-top-color: var(--fill-color);\n",
              "    }\n",
              "    30% {\n",
              "      border-color: transparent;\n",
              "      border-left-color: var(--fill-color);\n",
              "      border-top-color: var(--fill-color);\n",
              "      border-right-color: var(--fill-color);\n",
              "    }\n",
              "    40% {\n",
              "      border-color: transparent;\n",
              "      border-right-color: var(--fill-color);\n",
              "      border-top-color: var(--fill-color);\n",
              "    }\n",
              "    60% {\n",
              "      border-color: transparent;\n",
              "      border-right-color: var(--fill-color);\n",
              "    }\n",
              "    80% {\n",
              "      border-color: transparent;\n",
              "      border-right-color: var(--fill-color);\n",
              "      border-bottom-color: var(--fill-color);\n",
              "    }\n",
              "    90% {\n",
              "      border-color: transparent;\n",
              "      border-bottom-color: var(--fill-color);\n",
              "    }\n",
              "  }\n",
              "</style>\n",
              "\n",
              "  <script>\n",
              "    async function quickchart(key) {\n",
              "      const quickchartButtonEl =\n",
              "        document.querySelector('#' + key + ' button');\n",
              "      quickchartButtonEl.disabled = true;  // To prevent multiple clicks.\n",
              "      quickchartButtonEl.classList.add('colab-df-spinner');\n",
              "      try {\n",
              "        const charts = await google.colab.kernel.invokeFunction(\n",
              "            'suggestCharts', [key], {});\n",
              "      } catch (error) {\n",
              "        console.error('Error during call to suggestCharts:', error);\n",
              "      }\n",
              "      quickchartButtonEl.classList.remove('colab-df-spinner');\n",
              "      quickchartButtonEl.classList.add('colab-df-quickchart-complete');\n",
              "    }\n",
              "    (() => {\n",
              "      let quickchartButtonEl =\n",
              "        document.querySelector('#df-059d451a-cd10-4193-bae8-2960bd06406d button');\n",
              "      quickchartButtonEl.style.display =\n",
              "        google.colab.kernel.accessAllowed ? 'block' : 'none';\n",
              "    })();\n",
              "  </script>\n",
              "</div>\n",
              "    </div>\n",
              "  </div>\n"
            ],
            "application/vnd.google.colaboratory.intrinsic+json": {
              "type": "dataframe",
              "variable_name": "X_data",
              "summary": "{\n  \"name\": \"X_data\",\n  \"rows\": 12330,\n  \"fields\": [\n    {\n      \"column\": \"Administrative\",\n      \"properties\": {\n        \"dtype\": \"number\",\n        \"std\": 3,\n        \"min\": 0,\n        \"max\": 27,\n        \"num_unique_values\": 27,\n        \"samples\": [\n          5,\n          11,\n          9\n        ],\n        \"semantic_type\": \"\",\n        \"description\": \"\"\n      }\n    },\n    {\n      \"column\": \"Administrative_Duration\",\n      \"properties\": {\n        \"dtype\": \"number\",\n        \"std\": 176.77910747048634,\n        \"min\": 0.0,\n        \"max\": 3398.75,\n        \"num_unique_values\": 3335,\n        \"samples\": [\n          93.6,\n          63.08333333,\n          351.0833333\n        ],\n        \"semantic_type\": \"\",\n        \"description\": \"\"\n      }\n    },\n    {\n      \"column\": \"Informational\",\n      \"properties\": {\n        \"dtype\": \"number\",\n        \"std\": 1,\n        \"min\": 0,\n        \"max\": 24,\n        \"num_unique_values\": 17,\n        \"samples\": [\n          0,\n          1,\n          5\n        ],\n        \"semantic_type\": \"\",\n        \"description\": \"\"\n      }\n    },\n    {\n      \"column\": \"Informational_Duration\",\n      \"properties\": {\n        \"dtype\": \"number\",\n        \"std\": 140.74929442219798,\n        \"min\": 0.0,\n        \"max\": 2549.375,\n        \"num_unique_values\": 1258,\n        \"samples\": [\n          793.8,\n          50.0,\n          57.0\n        ],\n        \"semantic_type\": \"\",\n        \"description\": \"\"\n      }\n    },\n    {\n      \"column\": \"ProductRelated\",\n      \"properties\": {\n        \"dtype\": \"number\",\n        \"std\": 44,\n        \"min\": 0,\n        \"max\": 705,\n        \"num_unique_values\": 311,\n        \"samples\": [\n          330,\n          23,\n          54\n        ],\n        \"semantic_type\": \"\",\n        \"description\": \"\"\n      }\n    },\n    {\n      \"column\": \"ProductRelated_Duration\",\n      \"properties\": {\n        \"dtype\": \"number\",\n        \"std\": 1913.6692878720035,\n        \"min\": 0.0,\n        \"max\": 63973.52223,\n        \"num_unique_values\": 9551,\n        \"samples\": [\n          225.68,\n          232.6666667,\n          2834.280117\n        ],\n        \"semantic_type\": \"\",\n        \"description\": \"\"\n      }\n    },\n    {\n      \"column\": \"BounceRates\",\n      \"properties\": {\n        \"dtype\": \"number\",\n        \"std\": 0.048488321806260656,\n        \"min\": 0.0,\n        \"max\": 0.2,\n        \"num_unique_values\": 1872,\n        \"samples\": [\n          0.004778942,\n          0.010793651,\n          0.005073996\n        ],\n        \"semantic_type\": \"\",\n        \"description\": \"\"\n      }\n    },\n    {\n      \"column\": \"ExitRates\",\n      \"properties\": {\n        \"dtype\": \"number\",\n        \"std\": 0.048596540551443565,\n        \"min\": 0.0,\n        \"max\": 0.2,\n        \"num_unique_values\": 4777,\n        \"samples\": [\n          0.120833333,\n          0.006857143,\n          0.008914729\n        ],\n        \"semantic_type\": \"\",\n        \"description\": \"\"\n      }\n    },\n    {\n      \"column\": \"PageValues\",\n      \"properties\": {\n        \"dtype\": \"number\",\n        \"std\": 18.568436607806525,\n        \"min\": 0.0,\n        \"max\": 361.7637419,\n        \"num_unique_values\": 2704,\n        \"samples\": [\n          54.65714872,\n          20.97239726,\n          11.65996434\n        ],\n        \"semantic_type\": \"\",\n        \"description\": \"\"\n      }\n    },\n    {\n      \"column\": \"SpecialDay\",\n      \"properties\": {\n        \"dtype\": \"number\",\n        \"std\": 0.19891727315262864,\n        \"min\": 0.0,\n        \"max\": 1.0,\n        \"num_unique_values\": 6,\n        \"samples\": [\n          0.0,\n          0.4,\n          0.6\n        ],\n        \"semantic_type\": \"\",\n        \"description\": \"\"\n      }\n    },\n    {\n      \"column\": \"Month\",\n      \"properties\": {\n        \"dtype\": \"category\",\n        \"num_unique_values\": 10,\n        \"samples\": [\n          \"Sep\",\n          \"Mar\",\n          \"Jul\"\n        ],\n        \"semantic_type\": \"\",\n        \"description\": \"\"\n      }\n    },\n    {\n      \"column\": \"OperatingSystems\",\n      \"properties\": {\n        \"dtype\": \"number\",\n        \"std\": 0,\n        \"min\": 1,\n        \"max\": 8,\n        \"num_unique_values\": 8,\n        \"samples\": [\n          2,\n          6,\n          1\n        ],\n        \"semantic_type\": \"\",\n        \"description\": \"\"\n      }\n    },\n    {\n      \"column\": \"Browser\",\n      \"properties\": {\n        \"dtype\": \"number\",\n        \"std\": 1,\n        \"min\": 1,\n        \"max\": 13,\n        \"num_unique_values\": 13,\n        \"samples\": [\n          13,\n          9,\n          1\n        ],\n        \"semantic_type\": \"\",\n        \"description\": \"\"\n      }\n    },\n    {\n      \"column\": \"Region\",\n      \"properties\": {\n        \"dtype\": \"number\",\n        \"std\": 2,\n        \"min\": 1,\n        \"max\": 9,\n        \"num_unique_values\": 9,\n        \"samples\": [\n          7,\n          9,\n          5\n        ],\n        \"semantic_type\": \"\",\n        \"description\": \"\"\n      }\n    },\n    {\n      \"column\": \"TrafficType\",\n      \"properties\": {\n        \"dtype\": \"number\",\n        \"std\": 4,\n        \"min\": 1,\n        \"max\": 20,\n        \"num_unique_values\": 20,\n        \"samples\": [\n          1,\n          16,\n          18\n        ],\n        \"semantic_type\": \"\",\n        \"description\": \"\"\n      }\n    },\n    {\n      \"column\": \"VisitorType\",\n      \"properties\": {\n        \"dtype\": \"category\",\n        \"num_unique_values\": 3,\n        \"samples\": [\n          \"Returning_Visitor\",\n          \"New_Visitor\",\n          \"Other\"\n        ],\n        \"semantic_type\": \"\",\n        \"description\": \"\"\n      }\n    },\n    {\n      \"column\": \"Weekend\",\n      \"properties\": {\n        \"dtype\": \"boolean\",\n        \"num_unique_values\": 2,\n        \"samples\": [\n          true,\n          false\n        ],\n        \"semantic_type\": \"\",\n        \"description\": \"\"\n      }\n    }\n  ]\n}"
            }
          },
          "metadata": {},
          "execution_count": 3
        }
      ]
    },
    {
      "cell_type": "code",
      "source": [
        "# Cek apakah ada data yang NULL\n",
        "X_data.isna().sum()"
      ],
      "metadata": {
        "colab": {
          "base_uri": "https://localhost:8080/"
        },
        "id": "1S4WCbkTR33m",
        "outputId": "a26690ff-d594-4372-ff53-8ff58280e180"
      },
      "execution_count": null,
      "outputs": [
        {
          "output_type": "execute_result",
          "data": {
            "text/plain": [
              "Administrative             0\n",
              "Administrative_Duration    0\n",
              "Informational              0\n",
              "Informational_Duration     0\n",
              "ProductRelated             0\n",
              "ProductRelated_Duration    0\n",
              "BounceRates                0\n",
              "ExitRates                  0\n",
              "PageValues                 0\n",
              "SpecialDay                 0\n",
              "Month                      0\n",
              "OperatingSystems           0\n",
              "Browser                    0\n",
              "Region                     0\n",
              "TrafficType                0\n",
              "VisitorType                0\n",
              "Weekend                    0\n",
              "dtype: int64"
            ]
          },
          "metadata": {},
          "execution_count": 4
        }
      ]
    },
    {
      "cell_type": "code",
      "source": [
        "#Check for imbalanced\n",
        "plt.figure(figsize=(8, 6))\n",
        "sns.countplot(x='VisitorType', data=X_data, palette='Set2')\n",
        "plt.title('Distribution of Class')\n",
        "plt.show()"
      ],
      "metadata": {
        "colab": {
          "base_uri": "https://localhost:8080/",
          "height": 656
        },
        "id": "0G4DBz64g7A5",
        "outputId": "e60acc89-7061-4733-9e64-e9ea664f08aa"
      },
      "execution_count": null,
      "outputs": [
        {
          "output_type": "stream",
          "name": "stderr",
          "text": [
            "<ipython-input-5-f2901960ea99>:3: FutureWarning: \n",
            "\n",
            "Passing `palette` without assigning `hue` is deprecated and will be removed in v0.14.0. Assign the `x` variable to `hue` and set `legend=False` for the same effect.\n",
            "\n",
            "  sns.countplot(x='VisitorType', data=X_data, palette='Set2')\n"
          ]
        },
        {
          "output_type": "display_data",
          "data": {
            "text/plain": [
              "<Figure size 800x600 with 1 Axes>"
            ],
            "image/png": "[encoded data removed]"
          },
          "metadata": {}
        }
      ]
    },
    {
      "cell_type": "code",
      "source": [
        "label_encoder = LabelEncoder()\n",
        "\n",
        "X_data['Month'] = label_encoder.fit_transform(X_data['Month'])\n",
        "X_data['VisitorType'] = label_encoder.fit_transform(X_data['VisitorType'])\n",
        "Y_data['Revenue'] = label_encoder.fit_transform(Y_data['Revenue'])"
      ],
      "metadata": {
        "id": "EjB7TW4NgFoh"
      },
      "execution_count": null,
      "outputs": []
    },
    {
      "cell_type": "code",
      "source": [
        "#Check for imbalanced\n",
        "plt.figure(figsize=(8, 6))\n",
        "sns.countplot(x='Revenue', data=Y_data, palette='Set2')\n",
        "plt.title('Distribution of Class')\n",
        "plt.show()"
      ],
      "metadata": {
        "colab": {
          "base_uri": "https://localhost:8080/",
          "height": 656
        },
        "id": "-YiqkeU0WKtm",
        "outputId": "7608b8e0-92e5-4d6c-f7f8-f829fa194473"
      },
      "execution_count": null,
      "outputs": [
        {
          "output_type": "stream",
          "name": "stderr",
          "text": [
            "<ipython-input-7-26f90471307c>:3: FutureWarning: \n",
            "\n",
            "Passing `palette` without assigning `hue` is deprecated and will be removed in v0.14.0. Assign the `x` variable to `hue` and set `legend=False` for the same effect.\n",
            "\n",
            "  sns.countplot(x='Revenue', data=Y_data, palette='Set2')\n"
          ]
        },
        {
          "output_type": "display_data",
          "data": {
            "text/plain": [
              "<Figure size 800x600 with 1 Axes>"
            ],
            "image/png": "[encoded data removed]"
          },
          "metadata": {}
        }
      ]
    },
    {
      "cell_type": "code",
      "source": [
        "Y_data = Y_data.values.ravel()"
      ],
      "metadata": {
        "id": "dxU8YO8Glfkm"
      },
      "execution_count": null,
      "outputs": []
    },
    {
      "cell_type": "code",
      "source": [
        "# Split data jadi training data dan testing data\n",
        "X_train, X_test, y_train, y_test = train_test_split(X_data, Y_data, test_size = 0.2, random_state = 134)"
      ],
      "metadata": {
        "id": "rZ3JJvo0Ws2Z"
      },
      "execution_count": null,
      "outputs": []
    },
    {
      "cell_type": "code",
      "source": [
        "# Scale the features\n",
        "scaler = StandardScaler()\n",
        "x_train= scaler.fit_transform(X_train)\n",
        "x_test = scaler.transform(X_test)"
      ],
      "metadata": {
        "id": "hb0mLANS6-Dw"
      },
      "execution_count": null,
      "outputs": []
    },
    {
      "cell_type": "markdown",
      "source": [
        "# KNN"
      ],
      "metadata": {
        "id": "z5kRlUwFtzbn"
      }
    },
    {
      "cell_type": "code",
      "source": [
        "# Cari K yang optimal\n",
        "\n",
        "neig = np.arange(1, 25)\n",
        "train_accuracy = []\n",
        "test_accuracy = []\n",
        "\n",
        "for i, k in enumerate(neig):\n",
        "\n",
        "    knn = KNeighborsClassifier(n_neighbors=k)\n",
        "    knn.fit(x_train, y_train)\n",
        "    prediction_ = knn.predict(x_test)\n",
        "    train_accuracy.append(knn.score(x_train, y_train))\n",
        "    test_accuracy.append(knn.score(x_test, y_test))\n",
        "\n",
        "print(\"Best accuracy is {} with K = {}\".format(np.max(test_accuracy),1+test_accuracy.index(np.max(test_accuracy))))"
      ],
      "metadata": {
        "colab": {
          "base_uri": "https://localhost:8080/"
        },
        "id": "QZn40GyVXOAl",
        "outputId": "ad4f2989-6d15-4869-e3db-6a6fa23e26d1"
      },
      "execution_count": null,
      "outputs": [
        {
          "output_type": "stream",
          "name": "stdout",
          "text": [
            "Best accuracy is 0.8763179237631792 with K = 11\n"
          ]
        }
      ]
    },
    {
      "cell_type": "code",
      "source": [
        "# Classification\n",
        "\n",
        "knn = KNeighborsClassifier(n_neighbors=1+test_accuracy.index(np.max(test_accuracy)))\n",
        "knn.fit(x_train,y_train)\n",
        "predicted = knn.predict(x_test)\n",
        "score = knn.score(x_test, y_test)\n",
        "knn_score_ = np.mean(score)\n",
        "\n",
        "print('Accuracy : %.3f' % (knn_score_))"
      ],
      "metadata": {
        "colab": {
          "base_uri": "https://localhost:8080/"
        },
        "id": "ueWR3nyzXZDU",
        "outputId": "ef775be8-93ca-41a6-87c3-85eb159e2040"
      },
      "execution_count": null,
      "outputs": [
        {
          "output_type": "stream",
          "name": "stdout",
          "text": [
            "Accuracy : 0.876\n"
          ]
        }
      ]
    },
    {
      "cell_type": "markdown",
      "source": [
        "# SVM"
      ],
      "metadata": {
        "id": "8EPB9WONt8h7"
      }
    },
    {
      "cell_type": "code",
      "source": [
        "# Initialize SVM classifier\n",
        "svm_classifier = SVC(kernel='linear', C=10.0)\n",
        "\n",
        "# Train the classifier\n",
        "svm_classifier.fit(x_train, y_train)\n",
        "\n",
        "# Predict on the test set\n",
        "y_pred_svm = svm_classifier.predict(x_test)\n",
        "accuracy_svm = accuracy_score(y_test, y_pred_svm)\n",
        "\n",
        "print('Accuracy : %.3f' % (accuracy_svm))"
      ],
      "metadata": {
        "colab": {
          "base_uri": "https://localhost:8080/"
        },
        "id": "UyPXTzA4uA_z",
        "outputId": "d7ce5f97-d637-491b-be5c-9ddb8d97d516"
      },
      "execution_count": null,
      "outputs": [
        {
          "output_type": "stream",
          "name": "stdout",
          "text": [
            "Accuracy : 0.878\n"
          ]
        }
      ]
    },
    {
      "cell_type": "markdown",
      "source": [
        "# Naive Bayes"
      ],
      "metadata": {
        "id": "0w8xAIfqvvST"
      }
    },
    {
      "cell_type": "code",
      "source": [
        "# Initialize Naive Bayes classifier\n",
        "nb_classifier = GaussianNB()\n",
        "\n",
        "# Train the classifier\n",
        "nb_classifier.fit(x_train, y_train)\n",
        "\n",
        "# Predict on the test set\n",
        "y_pred_nb = nb_classifier.predict(x_test)\n",
        "\n",
        "# Evaluate accuracy\n",
        "accuracy_nb = accuracy_score(y_test, y_pred_nb)\n",
        "print(\"Accuracy using Naive Bayes:\", accuracy_nb)"
      ],
      "metadata": {
        "colab": {
          "base_uri": "https://localhost:8080/"
        },
        "id": "MuFkWMJRuEth",
        "outputId": "029c6e87-060c-4530-db37-b7d39ca30c8a"
      },
      "execution_count": null,
      "outputs": [
        {
          "output_type": "stream",
          "name": "stdout",
          "text": [
            "Accuracy using Naive Bayes: 0.8041362530413625\n"
          ]
        }
      ]
    },
    {
      "cell_type": "markdown",
      "source": [
        "# Results"
      ],
      "metadata": {
        "id": "rfHVvXc-vx3e"
      }
    },
    {
      "cell_type": "code",
      "source": [
        "# Hasil Classification F1 tanpa kfold\n",
        "\n",
        "print('F1 score tanpa Kfold')\n",
        "\n",
        "f1_knn = f1_score(y_test, predicted, pos_label=0)\n",
        "print('KNN F1-score: %.3f' % (f1_knn))\n",
        "\n",
        "f1_svm = f1_score(y_test, y_pred_svm, pos_label=0)\n",
        "print('SVM F1-score: %.3f' % (f1_svm))\n",
        "\n",
        "f1_nb = f1_score(y_test, y_pred_nb, pos_label=0)\n",
        "print('Naive Bayes F1-score: %.3f' % (f1_nb))\n",
        "\n",
        "# Hasil Classification F1 dengan kfold\n",
        "\n",
        "knn1_classifier = KNeighborsClassifier()\n",
        "svm1_classifier = SVC(kernel='linear', C=10.0)\n",
        "naivebayes1_classifier = GaussianNB()\n",
        "\n",
        "# Define K-fold cross-validation\n",
        "kf = KFold(n_splits=5, shuffle=True, random_state=42)\n",
        "\n",
        "# Perform cross-validation\n",
        "f1_scores_knn = cross_val_score(knn1_classifier, x_test, y_test, cv=kf)\n",
        "\n",
        "print()\n",
        "print('KNN')\n",
        "print(\"KNN F1 Scores with K-fold cross-validation:\", f1_scores_knn)\n",
        "print(\"KNN Average F1 Score:\", f1_scores_knn.mean())\n",
        "\n",
        "f1_scores_svm = cross_val_score(svm1_classifier, x_test, y_test, cv=kf)\n",
        "\n",
        "print()\n",
        "print('SVM')\n",
        "print(\"SVM F1 Scores with K-fold cross-validation:\", f1_scores_svm)\n",
        "print(\"SVM Average F1 Score:\", f1_scores_svm.mean())\n",
        "\n",
        "f1_scores_nb = cross_val_score(naivebayes1_classifier, x_test, y_test, cv=kf)\n",
        "\n",
        "print()\n",
        "print('Naive Bayes')\n",
        "print(\"Naive Bayes F1 Scores with K-fold cross-validation:\", f1_scores_nb)\n",
        "print(\"Naive Bayes Average F1 Score:\", f1_scores_nb.mean())"
      ],
      "metadata": {
        "colab": {
          "base_uri": "https://localhost:8080/"
        },
        "id": "LlOSjdRwv0nQ",
        "outputId": "96578509-95b6-46d7-a6e0-ca8877bea2d2"
      },
      "execution_count": null,
      "outputs": [
        {
          "output_type": "stream",
          "name": "stdout",
          "text": [
            "F1 score tanpa Kfold\n",
            "KNN F1-score: 0.930\n",
            "SVM F1-score: 0.931\n",
            "Naive Bayes F1-score: 0.878\n",
            "\n",
            "KNN\n",
            "KNN F1 Scores with K-fold cross-validation: [0.87246964 0.84584178 0.85801217 0.84584178 0.84989858]\n",
            "KNN Average F1 Score: 0.8544127912228692\n",
            "\n",
            "SVM\n",
            "SVM F1 Scores with K-fold cross-validation: [0.90890688 0.86004057 0.87829615 0.87626775 0.86004057]\n",
            "SVM Average F1 Score: 0.8767103826034113\n",
            "\n",
            "Naive Bayes\n",
            "Naive Bayes F1 Scores with K-fold cross-validation: [0.74898785 0.77890467 0.7464503  0.76673428 0.73225152]\n",
            "Naive Bayes Average F1 Score: 0.7546657250084176\n"
          ]
        }
      ]
    }
  ]
}